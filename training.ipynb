{
 "cells": [
  {
   "cell_type": "code",
   "execution_count": 5,
   "id": "b09cecbf",
   "metadata": {},
   "outputs": [],
   "source": [
    "import torch\n",
    "from torch.utils.data import DataLoader, TensorDataset\n",
    "import numpy as np\n",
    "from src.arch import NN\n",
    "from src import setup\n",
    "import pandas as pd\n",
    "import matplotlib.pyplot as plt\n",
    "import torch.optim as optim\n",
    "from pathlib import Path\n"
   ]
  },
  {
   "cell_type": "code",
   "execution_count": 6,
   "id": "4ca5eae7",
   "metadata": {},
   "outputs": [],
   "source": [
    "#load data\n",
    "raw_train = pd.read_csv(setup.raw_train_path) \n",
    "train_demographics = pd.read_csv(setup.train_demographics_path)\n",
    "raw_test = pd.read_csv(setup.raw_test_path)\n",
    "test_demographics = pd.read_csv(setup.test_demographics_path)"
   ]
  },
  {
   "cell_type": "code",
   "execution_count": null,
   "id": "f275bcad",
   "metadata": {},
   "outputs": [],
   "source": [
    "# making 1D data lists for each sensor\n",
    "gestures = raw_train['gesture'].unique()\n",
    "subjects = raw_train['subject'].unique()\n",
    "\n",
    "#sensor data lists\n",
    "svm_data = []\n",
    "thermo_data = []\n",
    "tof_data = []\n",
    "gyro_data = []\n",
    "\n",
    "#demographics data\n",
    "shoulder_to_wrist_cm = []\n",
    "elbow_to_wrist_cm = []\n",
    "height = []\n",
    "handedness = []\n",
    "adult_child = []\n",
    "sex = []\n",
    "age = []\n",
    "\n",
    "\n",
    "#labels for each gesture and subject\n",
    "labels = []\n",
    "for gesture in gestures:   \n",
    "    for subject in subjects:\n",
    "        subject_data = raw_train[(raw_train['gesture'] == gesture) & (raw_train['subject'] == subject)]\n",
    "        subject_demographics = train_demographics[train_demographics['subject'] == subject]\n",
    "\n",
    "        \n",
    "        #calculating svm (sensor vector magnitude) from accelerometer data\n",
    "        svm = np.sqrt(subject_data['acc_x']**2 + subject_data['acc_y']**2 + subject_data['acc_z']**2)\n",
    "        svm_data.append(svm.values)\n",
    "\n",
    "        thermo_data.append(subject_data[['thm_1', 'thm_2', 'thm_3', 'thm_4', 'thm_5']].values)\n",
    "        gyro_data.append(subject_data[['rot_w', 'rot_x', 'rot_y', 'rot_z']].values)\n",
    "        labels.append(gesture)\n",
    "\n",
    "        #adding all tof data\n",
    "        tof_cols = [f'tof_{sensor}_v{pixel}' for sensor in range(1, 6) for pixel in range(64)]\n",
    "        tof_data.append(subject_data[tof_cols].values)\n",
    "\n",
    "        #adding demographics data\n",
    "        shoulder_to_wrist_cm.append(subject_demographics['shoulder_to_wrist_cm'].values[0])\n",
    "        elbow_to_wrist_cm.append(subject_demographics['elbow_to_wrist_cm'].values[0])\n",
    "        height.append(subject_demographics['height_cm'].values[0])\n",
    "        handedness.append(subject_demographics['handedness'].values[0])\n",
    "        adult_child.append(subject_demographics['adult_child'].values[0])\n",
    "        sex.append(subject_demographics['sex'].values[0])\n",
    "        age.append(subject_demographics['age'].values[0])\n",
    "\n",
    "\n",
    "#converting lists to numpy arrays\n",
    "svm_data = np.array(svm_data)\n",
    "thermo_data = np.array(thermo_data)\n",
    "tof_data = np.array(tof_data)\n",
    "gyro_data = np.array(gyro_data)\n",
    "shoulder_to_wrist_cm = np.array(shoulder_to_wrist_cm)\n",
    "elbow_to_wrist_cm = np.array(elbow_to_wrist_cm)\n",
    "height = np.array(height)\n",
    "handedness = np.array(handedness)\n",
    "adult_child = np.array(adult_child)\n",
    "sex = np.array(sex)\n",
    "age = np.array(age)\n",
    "        "
   ]
  },
  {
   "cell_type": "code",
   "execution_count": null,
   "id": "6899b2d5",
   "metadata": {},
   "outputs": [],
   "source": [
    "#splitting into train and val sets"
   ]
  }
 ],
 "metadata": {
  "kernelspec": {
   "display_name": "Python 3",
   "language": "python",
   "name": "python3"
  },
  "language_info": {
   "codemirror_mode": {
    "name": "ipython",
    "version": 3
   },
   "file_extension": ".py",
   "mimetype": "text/x-python",
   "name": "python",
   "nbconvert_exporter": "python",
   "pygments_lexer": "ipython3",
   "version": "3.13.5"
  }
 },
 "nbformat": 4,
 "nbformat_minor": 5
}
