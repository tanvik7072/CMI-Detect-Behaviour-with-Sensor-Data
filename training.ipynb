{
 "cells": [
  {
   "cell_type": "code",
   "execution_count": 2,
   "id": "b09cecbf",
   "metadata": {},
   "outputs": [],
   "source": [
    "import torch\n",
    "from torch.utils.data import DataLoader, TensorDataset\n",
    "import numpy as np\n",
    "from src.arch import NN\n",
    "from src import setup\n",
    "import pandas as pd\n",
    "import matplotlib.pyplot as plt\n",
    "import torch.optim as optim\n",
    "from pathlib import Path\n",
    "from scipy.signal import resample\n"
   ]
  },
  {
   "cell_type": "code",
   "execution_count": 3,
   "id": "4ca5eae7",
   "metadata": {},
   "outputs": [],
   "source": [
    "#load data\n",
    "raw_train = pd.read_csv(setup.raw_train_path) \n",
    "train_demographics = pd.read_csv(setup.train_demographics_path)\n",
    "raw_test = pd.read_csv(setup.raw_test_path)\n",
    "test_demographics = pd.read_csv(setup.test_demographics_path)"
   ]
  },
  {
   "cell_type": "code",
   "execution_count": 21,
   "id": "f275bcad",
   "metadata": {},
   "outputs": [],
   "source": [
    "# making 1D data lists for each sensor\n",
    "gestures = raw_train['gesture'].unique()\n",
    "subjects = raw_train['subject'].unique()\n",
    "\n",
    "#sensor data lists\n",
    "svm_data = []\n",
    "\n",
    "#tof data\n",
    "tof_data_1 = []\n",
    "tof_data_2 = []\n",
    "tof_data_3 = []\n",
    "tof_data_4 = []\n",
    "tof_data_5 = []\n",
    "\n",
    "#thermo data\n",
    "thermo_data_1 = []\n",
    "thermo_data_2 = []\n",
    "thermo_data_3 = []\n",
    "thermo_data_4 = []\n",
    "thermo_data_5 = []\n",
    "\n",
    "thermo_lists = {1: thermo_data_1, 2: thermo_data_2, 3: thermo_data_3,\n",
    "                4: thermo_data_4, 5: thermo_data_5}\n",
    "\n",
    "gyro_data = []\n",
    "\n",
    "#demographics data\n",
    "shoulder_to_wrist_cm = []\n",
    "elbow_to_wrist_cm = []\n",
    "height = []\n",
    "handedness = []\n",
    "adult_child = []\n",
    "sex = []\n",
    "age = []\n",
    "\n",
    "tof_data_1 = []\n",
    "tof_data_2 = []\n",
    "tof_data_3 = []\n",
    "tof_data_4 = []\n",
    "tof_data_5 = []\n",
    "\n",
    "tof_lists = {1: tof_data_1, 2: tof_data_2, 3: tof_data_3,\n",
    "                4: tof_data_4, 5: tof_data_5}\n",
    "\n",
    "\n",
    "#labels for each gesture and subject\n",
    "labels = []\n",
    "for gesture in gestures:   \n",
    "    for subject in subjects:\n",
    "        subject_data = raw_train[(raw_train['gesture'] == gesture) & (raw_train['subject'] == subject)]\n",
    "        subject_demographics = train_demographics[train_demographics['subject'] == subject]\n",
    "\n",
    "        \n",
    "        #calculating svm (sensor vector magnitude) from accelerometer data\n",
    "        svm = np.sqrt(subject_data['acc_x']**2 + subject_data['acc_y']**2 + subject_data['acc_z']**2)\n",
    "        svm_data.append(svm)\n",
    "        \n",
    "        #adding thermo data\n",
    "\n",
    "        for sensor_id in range(1, 6):\n",
    "            thermo_lists[sensor_id].append(subject_data[[f'thm_{sensor_id}' for pixel in range(64)]].values)\n",
    "\n",
    "        #adding gyro data\n",
    "        gyro_data.append(subject_data[['rot_w', 'rot_x', 'rot_y', 'rot_z']].values)\n",
    "\n",
    "        #separating tof data into 8x8 grids, sequentially stacked (5 x 3D arrays, one per sensor)\n",
    "\n",
    "       \n",
    "        for sensor_id in range(1, 6):\n",
    "            tof_cols = [f'tof_{sensor_id}_v{pixel}' for pixel in range(64)]\n",
    "            tof_data_1D = subject_data[tof_cols].values\n",
    "\n",
    "            #num_samples = tof_data_1D.shape[0]\n",
    "            #tof_frame_1 = tof_data_1D.reshape(num_samples, 8, 8)  # Reshape to 8x8 grid \n",
    "\n",
    "            tof_lists[sensor_id].append(tof_data_1D)\n",
    "            \n",
    "\n",
    "        labels.append(gesture)\n",
    "\n",
    "        #adding demographics data\n",
    "        shoulder_to_wrist_cm.append(subject_demographics['shoulder_to_wrist_cm'].values[0])\n",
    "        elbow_to_wrist_cm.append(subject_demographics['elbow_to_wrist_cm'].values[0])\n",
    "        height.append(subject_demographics['height_cm'].values[0])\n",
    "        handedness.append(subject_demographics['handedness'].values[0])\n",
    "        adult_child.append(subject_demographics['adult_child'].values[0])\n",
    "        sex.append(subject_demographics['sex'].values[0])\n",
    "        age.append(subject_demographics['age'].values[0])\n"
   ]
  },
  {
   "cell_type": "code",
   "execution_count": 22,
   "id": "47be7603",
   "metadata": {},
   "outputs": [],
   "source": [
    "svm_data_resampled = [resample(svm, 100) for svm in svm_data] \n",
    "\n",
    "thermo_data_1_resampled = [resample(thermo, 100) for thermo in thermo_data_1] \n",
    "thermo_data_2_resampled = [resample(thermo, 100) for thermo in thermo_data_2]\n",
    "thermo_data_3_resampled = [resample(thermo, 100) for thermo in thermo_data_3]\n",
    "thermo_data_4_resampled = [resample(thermo, 100) for thermo in thermo_data_4]\n",
    "thermo_data_5_resampled = [resample(thermo, 100) for thermo in thermo_data_5]\n",
    "     \n",
    "gyro_data_resampled = [resample(gyro, 500) for gyro in gyro_data] \n",
    "\n",
    "tof_data_1_resampled = []\n",
    "tof_data_2_resampled = []\n",
    "tof_data_3_resampled = []\n",
    "tof_data_4_resampled = []\n",
    "tof_data_5_resampled = []\n",
    "\n",
    "for tof in tof_data_1:\n",
    "    resampled_array = resample(tof, 100)\n",
    "    tof_data_1_resampled.append(resampled_array)\n",
    "for tof in tof_data_2:\n",
    "    resampled_array = resample(tof, 100)\n",
    "    tof_data_2_resampled.append(resampled_array)\n",
    "for tof in tof_data_3:\n",
    "    resampled_array = resample(tof, 100)\n",
    "    tof_data_3_resampled.append(resampled_array)\n",
    "for tof in tof_data_4:\n",
    "    resampled_array = resample(tof, 100)\n",
    "    tof_data_4_resampled.append(resampled_array)\n",
    "for tof in tof_data_5:\n",
    "    resampled_array = resample(tof, 100)\n",
    "    tof_data_5_resampled.append(resampled_array)\n"
   ]
  },
  {
   "cell_type": "code",
   "execution_count": 23,
   "id": "0f5df54f",
   "metadata": {},
   "outputs": [
    {
     "name": "stdout",
     "output_type": "stream",
     "text": [
      "(1458, 100, 1) (1458, 500, 4) (1458, 100, 64) (1458, 100, 64) (1458, 100, 64) (1458, 100, 64) (1458, 100, 64) (1458, 100, 64) (1458, 100, 64) (1458, 100, 64) (1458, 100, 64) (1458, 100, 64)\n"
     ]
    }
   ],
   "source": [
    "svm_data_array = np.array(svm_data_resampled)[..., np.newaxis]  # Adding a new axis for compatibility with the model input\n",
    "thermo_data_1_array = np.array(thermo_data_1_resampled)\n",
    "thermo_data_2_array = np.array(thermo_data_2_resampled)\n",
    "thermo_data_3_array = np.array(thermo_data_3_resampled)\n",
    "thermo_data_4_array = np.array(thermo_data_4_resampled)\n",
    "thermo_data_5_array = np.array(thermo_data_5_resampled)\n",
    "\n",
    "tof_data_1_array = np.array(tof_data_1_resampled)\n",
    "tof_data_2_array = np.array(tof_data_2_resampled)\n",
    "tof_data_3_array = np.array(tof_data_3_resampled)\n",
    "tof_data_4_array = np.array(tof_data_4_resampled)\n",
    "tof_data_5_array = np.array(tof_data_5_resampled)\n",
    "\n",
    "gyro_data_array = np.array(gyro_data_resampled)\n",
    "print(svm_data_array.shape, gyro_data_array.shape, thermo_data_1_array.shape, thermo_data_2_array.shape, thermo_data_3_array.shape, thermo_data_4_array.shape, thermo_data_5_array.shape, tof_data_1_array.shape, tof_data_2_array.shape, tof_data_3_array.shape, tof_data_4_array.shape, tof_data_5_array.shape)"
   ]
  },
  {
   "cell_type": "code",
   "execution_count": 24,
   "id": "6899b2d5",
   "metadata": {},
   "outputs": [],
   "source": [
    "#splitting into train and val sets\n",
    "input_data = np.concatenate((svm_data_array, thermo_data_1_array, thermo_data_2_array, thermo_data_3_array, thermo_data_4_array, thermo_data_5_array, tof_data_1_array), axis=2)"
   ]
  },
  {
   "cell_type": "code",
   "execution_count": 25,
   "id": "c2bf0f42",
   "metadata": {},
   "outputs": [
    {
     "data": {
      "text/plain": [
       "(1458, 100, 385)"
      ]
     },
     "execution_count": 25,
     "metadata": {},
     "output_type": "execute_result"
    }
   ],
   "source": [
    "input_data.shape"
   ]
  }
 ],
 "metadata": {
  "kernelspec": {
   "display_name": "Python 3",
   "language": "python",
   "name": "python3"
  },
  "language_info": {
   "codemirror_mode": {
    "name": "ipython",
    "version": 3
   },
   "file_extension": ".py",
   "mimetype": "text/x-python",
   "name": "python",
   "nbconvert_exporter": "python",
   "pygments_lexer": "ipython3",
   "version": "3.13.5"
  }
 },
 "nbformat": 4,
 "nbformat_minor": 5
}
