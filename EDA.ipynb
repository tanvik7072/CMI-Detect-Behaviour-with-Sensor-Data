{
 "cells": [
  {
   "cell_type": "markdown",
   "id": "4e83a11e",
   "metadata": {},
   "source": [
    "## Exploratory Data Anlysis"
   ]
  },
  {
   "cell_type": "markdown",
   "id": "c626d0ef",
   "metadata": {},
   "source": [
    "### Import libraries and data"
   ]
  },
  {
   "cell_type": "code",
   "execution_count": null,
   "id": "92625d1f",
   "metadata": {},
   "outputs": [],
   "source": [
    "import numpy as np\n",
    "import matplotlib.pyplot as plt\n",
    "import pandas as pd"
   ]
  },
  {
   "cell_type": "code",
   "execution_count": null,
   "id": "07e36b03",
   "metadata": {},
   "outputs": [],
   "source": [
    "raw_train = pd.read_csv('data/train.csv') #training tof, imu and thermo data\n",
    "train_demographics = pd.read_csv('data/train_demographics.csv') #training demographics data"
   ]
  },
  {
   "cell_type": "code",
   "execution_count": null,
   "id": "68fc646b",
   "metadata": {},
   "outputs": [
    {
     "data": {
      "text/html": [
       "<div>\n",
       "<style scoped>\n",
       "    .dataframe tbody tr th:only-of-type {\n",
       "        vertical-align: middle;\n",
       "    }\n",
       "\n",
       "    .dataframe tbody tr th {\n",
       "        vertical-align: top;\n",
       "    }\n",
       "\n",
       "    .dataframe thead th {\n",
       "        text-align: right;\n",
       "    }\n",
       "</style>\n",
       "<table border=\"1\" class=\"dataframe\">\n",
       "  <thead>\n",
       "    <tr style=\"text-align: right;\">\n",
       "      <th></th>\n",
       "      <th>subject</th>\n",
       "      <th>adult_child</th>\n",
       "      <th>age</th>\n",
       "      <th>sex</th>\n",
       "      <th>handedness</th>\n",
       "      <th>height_cm</th>\n",
       "      <th>shoulder_to_wrist_cm</th>\n",
       "      <th>elbow_to_wrist_cm</th>\n",
       "    </tr>\n",
       "  </thead>\n",
       "  <tbody>\n",
       "    <tr>\n",
       "      <th>0</th>\n",
       "      <td>SUBJ_000206</td>\n",
       "      <td>1</td>\n",
       "      <td>41</td>\n",
       "      <td>1</td>\n",
       "      <td>1</td>\n",
       "      <td>172.0</td>\n",
       "      <td>50</td>\n",
       "      <td>25.0</td>\n",
       "    </tr>\n",
       "    <tr>\n",
       "      <th>1</th>\n",
       "      <td>SUBJ_001430</td>\n",
       "      <td>0</td>\n",
       "      <td>11</td>\n",
       "      <td>0</td>\n",
       "      <td>1</td>\n",
       "      <td>167.0</td>\n",
       "      <td>51</td>\n",
       "      <td>27.0</td>\n",
       "    </tr>\n",
       "    <tr>\n",
       "      <th>2</th>\n",
       "      <td>SUBJ_002923</td>\n",
       "      <td>1</td>\n",
       "      <td>28</td>\n",
       "      <td>1</td>\n",
       "      <td>0</td>\n",
       "      <td>164.0</td>\n",
       "      <td>54</td>\n",
       "      <td>26.0</td>\n",
       "    </tr>\n",
       "    <tr>\n",
       "      <th>3</th>\n",
       "      <td>SUBJ_003328</td>\n",
       "      <td>1</td>\n",
       "      <td>33</td>\n",
       "      <td>1</td>\n",
       "      <td>1</td>\n",
       "      <td>171.0</td>\n",
       "      <td>52</td>\n",
       "      <td>25.0</td>\n",
       "    </tr>\n",
       "    <tr>\n",
       "      <th>4</th>\n",
       "      <td>SUBJ_004117</td>\n",
       "      <td>0</td>\n",
       "      <td>15</td>\n",
       "      <td>0</td>\n",
       "      <td>1</td>\n",
       "      <td>184.0</td>\n",
       "      <td>54</td>\n",
       "      <td>28.0</td>\n",
       "    </tr>\n",
       "  </tbody>\n",
       "</table>\n",
       "</div>"
      ],
      "text/plain": [
       "       subject  adult_child  age  sex  handedness  height_cm  \\\n",
       "0  SUBJ_000206            1   41    1           1      172.0   \n",
       "1  SUBJ_001430            0   11    0           1      167.0   \n",
       "2  SUBJ_002923            1   28    1           0      164.0   \n",
       "3  SUBJ_003328            1   33    1           1      171.0   \n",
       "4  SUBJ_004117            0   15    0           1      184.0   \n",
       "\n",
       "   shoulder_to_wrist_cm  elbow_to_wrist_cm  \n",
       "0                    50               25.0  \n",
       "1                    51               27.0  \n",
       "2                    54               26.0  \n",
       "3                    52               25.0  \n",
       "4                    54               28.0  "
      ]
     },
     "metadata": {},
     "output_type": "display_data"
    }
   ],
   "source": [
    "train_demographics.head()"
   ]
  },
  {
   "cell_type": "markdown",
   "id": "9c3d5519",
   "metadata": {},
   "source": [
    "### Making 1D time-series sets from csv data"
   ]
  },
  {
   "cell_type": "code",
   "execution_count": null,
   "id": "19673d70",
   "metadata": {},
   "outputs": [
    {
     "name": "stdout",
     "output_type": "stream",
     "text": [
      "['Cheek - pinch skin' 'Forehead - pull hairline' 'Write name on leg'\n",
      " 'Feel around in tray and pull out an object' 'Neck - scratch'\n",
      " 'Neck - pinch skin' 'Eyelash - pull hair' 'Eyebrow - pull hair'\n",
      " 'Forehead - scratch' 'Above ear - pull hair' 'Wave hello'\n",
      " 'Write name in air' 'Text on phone' 'Pull air toward your face'\n",
      " 'Pinch knee/leg skin' 'Scratch knee/leg skin' 'Drink from bottle/cup'\n",
      " 'Glasses on/off']\n"
     ]
    }
   ],
   "source": [
    "gestures = raw_train['gesture'].unique()\n",
    "print(gestures)"
   ]
  },
  {
   "cell_type": "code",
   "execution_count": null,
   "id": "ef0f42a4",
   "metadata": {},
   "outputs": [
    {
     "name": "stdout",
     "output_type": "stream",
     "text": [
      "['SUBJ_059520' 'SUBJ_020948' 'SUBJ_040282' 'SUBJ_052342' 'SUBJ_032165'\n",
      " 'SUBJ_024086' 'SUBJ_040733' 'SUBJ_063346' 'SUBJ_055211' 'SUBJ_001430'\n",
      " 'SUBJ_012088' 'SUBJ_040310' 'SUBJ_032233' 'SUBJ_059330' 'SUBJ_013623'\n",
      " 'SUBJ_032585' 'SUBJ_063464' 'SUBJ_038023' 'SUBJ_044680' 'SUBJ_024137'\n",
      " 'SUBJ_030676' 'SUBJ_047636' 'SUBJ_053173' 'SUBJ_057917' 'SUBJ_040724'\n",
      " 'SUBJ_049223' 'SUBJ_019262' 'SUBJ_053906' 'SUBJ_027682' 'SUBJ_058786'\n",
      " 'SUBJ_000206' 'SUBJ_032761' 'SUBJ_017170' 'SUBJ_041243' 'SUBJ_019663'\n",
      " 'SUBJ_061552' 'SUBJ_032704' 'SUBJ_011323' 'SUBJ_041770' 'SUBJ_040106'\n",
      " 'SUBJ_039234' 'SUBJ_050642' 'SUBJ_021670' 'SUBJ_056936' 'SUBJ_042779'\n",
      " 'SUBJ_034574' 'SUBJ_008304' 'SUBJ_064387' 'SUBJ_054811' 'SUBJ_045235'\n",
      " 'SUBJ_017807' 'SUBJ_034631' 'SUBJ_024825' 'SUBJ_019297' 'SUBJ_035353'\n",
      " 'SUBJ_027671' 'SUBJ_004117' 'SUBJ_042794' 'SUBJ_008728' 'SUBJ_003328'\n",
      " 'SUBJ_017499' 'SUBJ_036450' 'SUBJ_019756' 'SUBJ_026824' 'SUBJ_063447'\n",
      " 'SUBJ_063319' 'SUBJ_051942' 'SUBJ_028998' 'SUBJ_058967' 'SUBJ_038277'\n",
      " 'SUBJ_059960' 'SUBJ_002923' 'SUBJ_026460' 'SUBJ_039498' 'SUBJ_053217'\n",
      " 'SUBJ_043192' 'SUBJ_042254' 'SUBJ_016552' 'SUBJ_036405' 'SUBJ_038709'\n",
      " 'SUBJ_023739']\n"
     ]
    }
   ],
   "source": [
    "subjects = raw_train['subject'].unique()\n",
    "print(subjects)"
   ]
  },
  {
   "cell_type": "code",
   "execution_count": null,
   "id": "6c0238ca",
   "metadata": {},
   "outputs": [],
   "source": [
    "acc_data = []\n",
    "thermo_data = []\n",
    "tof_data = []\n",
    "gyro_data = []\n",
    "labels = []\n",
    "for gesture in gestures:   \n",
    "    for subject in subjects:\n",
    "        subject_data = raw_train[(raw_train['gesture'] == gesture) & (raw_train['subject'] == subject)]\n",
    "        acc_data.append(subject_data[['acc_x', 'acc_y', 'acc_z']].values)\n",
    "        thermo_data.append(subject_data[['thm_1', 'thm_2', 'thm_3', 'thm_4', 'thm_5']].values)\n",
    "        gyro_data.append(subject_data[['rot_w', 'rot_x', 'rot_y', 'rot_z']].values)\n",
    "        labels.append(gesture)\n",
    "\n",
    "        #adding all tof data\n",
    "        tof_cols = [f'tof_{sensor}_v{pixel}' for sensor in range(1, 6) for pixel in range(64)]\n",
    "        tof_data.append(subject_data[tof_cols].values)\n",
    "        \n",
    "        "
   ]
  }
 ],
 "metadata": {
  "language_info": {
   "name": "python"
  }
 },
 "nbformat": 4,
 "nbformat_minor": 5
}
